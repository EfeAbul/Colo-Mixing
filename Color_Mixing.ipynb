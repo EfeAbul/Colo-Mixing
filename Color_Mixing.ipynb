{
  "nbformat": 4,
  "nbformat_minor": 0,
  "metadata": {
    "colab": {
      "provenance": []
    },
    "kernelspec": {
      "name": "python3",
      "display_name": "Python 3"
    },
    "language_info": {
      "name": "python"
    }
  },
  "cells": [
    {
      "cell_type": "code",
      "execution_count": null,
      "metadata": {
        "id": "_ZnC_0T4kOi-",
        "colab": {
          "base_uri": "https://localhost:8080/",
          "height": 265
        },
        "outputId": "e8ca168e-ef1e-4e0f-df69-34c0cbb56996"
      },
      "outputs": [
        {
          "output_type": "display_data",
          "data": {
            "text/plain": [
              "<Figure size 900x400 with 4 Axes>"
            ],
            "image/png": "[encoded data removed]"
          },
          "metadata": {}
        }
      ],
      "source": [
        "import matplotlib.pyplot as plt\n",
        "\n",
        "def rgb_to_cmy(rgb):\n",
        "    r, g, b = [x / 255.0 for x in rgb]\n",
        "    return [1 - r, 1 - g, 1 - b]\n",
        "\n",
        "def cmy_to_rgb(cmy):\n",
        "    c, m, y = cmy\n",
        "    return [int(255 * (1 - c)), int(255 * (1 - m)), int(255 * (1 - y))]\n",
        "\n",
        "def mix_paint_colors(rgb_colors):\n",
        "    # RGB'den CMY'ye dönüştür\n",
        "    cmy_colors = [rgb_to_cmy(rgb) for rgb in rgb_colors]\n",
        "    # CMY'de ortalama\n",
        "    mixed_cmy = [sum(c) / len(cmy_colors) for c in zip(*cmy_colors)]\n",
        "    # RGB'ye geri çevir\n",
        "    return cmy_to_rgb(mixed_cmy)\n",
        "\n",
        "# 🎨 Örnek renkler: Kırmızı ve Mavi\n",
        "red = [0,255,255]\n",
        "blue = [255,0,255]\n",
        "green = [255,255,0]\n",
        "\n",
        "# Karışım işlemi\n",
        "mixed = mix_paint_colors([red, blue, green])\n",
        "\n",
        "# 🔍 Görselleştir\n",
        "colors = [red, blue, green, mixed]\n",
        "labels = ['Red', 'Blue', 'green', 'Mixed (Paint)']\n",
        "\n",
        "fig, ax = plt.subplots(1, len(labels), figsize=(9, len(labels)))\n",
        "for i in range(len(labels)):\n",
        "    ax[i].imshow([[colors[i]]])\n",
        "    ax[i].axis('off')\n",
        "    ax[i].set_title(labels[i])\n",
        "\n",
        "plt.tight_layout()\n",
        "plt.show()\n"
      ]
    },
    {
      "cell_type": "code",
      "source": [
        "import numpy as np\n",
        "import matplotlib.pyplot as plt\n",
        "\n",
        "# sRGB gamma düzeltmesiyle karışım\n",
        "def blend_srgb_gamma(colors, gamma=2.2):\n",
        "    def to_linear(c): return [(x / 255.0) ** gamma for x in c]\n",
        "    def to_srgb(c): return [int((max(0, min(1, x))) ** (1 / gamma) * 255) for x in c]\n",
        "\n",
        "    linear_colors = [to_linear(c) for c in colors]\n",
        "    blended_linear = np.mean(linear_colors, axis=0)\n",
        "    return to_srgb(blended_linear)\n",
        "\n",
        "# Renkler\n",
        "red = [255, 0, 0]\n",
        "green = [0, 255, 0]\n",
        "blue = [0, 0, 255]\n",
        "mix1 = blend_srgb_gamma([green, blue])\n",
        "\n",
        "colors = [green, blue, mix1]\n",
        "labels = ['green', 'blue', 'Mix1']\n",
        "\n",
        "# Görselleştirme\n",
        "fig, ax = plt.subplots(1, len(labels), figsize=(9, 3))\n",
        "for i in range(len(labels)):\n",
        "    ax[i].imshow([[colors[i]]])\n",
        "    ax[i].axis('off')\n",
        "    ax[i].set_title(labels[i])\n",
        "\n",
        "plt.tight_layout()\n",
        "plt.show()\n"
      ],
      "metadata": {
        "colab": {
          "base_uri": "https://localhost:8080/",
          "height": 319
        },
        "id": "zXdDUWL6wEc7",
        "outputId": "e66ba410-750e-455d-8d0c-91005f0af8ec"
      },
      "execution_count": 1,
      "outputs": [
        {
          "output_type": "display_data",
          "data": {
            "text/plain": [
              "<Figure size 900x300 with 3 Axes>"
            ],
            "image/png": "[encoded data removed]"
          },
          "metadata": {}
        }
      ]
    }
  ]
}